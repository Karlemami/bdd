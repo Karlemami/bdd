{
 "cells": [
  {
   "cell_type": "markdown",
   "metadata": {},
   "source": [
    "# Setting up connection and cursor"
   ]
  },
  {
   "cell_type": "code",
   "execution_count": 1,
   "metadata": {},
   "outputs": [],
   "source": [
    "import sqlite3\n",
    "conn = sqlite3.connect(\"enquete.db\")\n",
    "c = conn.cursor()"
   ]
  },
  {
   "cell_type": "code",
   "execution_count": 90,
   "metadata": {},
   "outputs": [],
   "source": [
    "import random\n",
    "from faker import Faker\n",
    "from datetime import datetime, timedelta\n",
    "fake = Faker('fr_FR')"
   ]
  },
  {
   "cell_type": "code",
   "execution_count": 15,
   "metadata": {},
   "outputs": [],
   "source": [
    "conn.close()"
   ]
  },
  {
   "cell_type": "markdown",
   "metadata": {},
   "source": [
    "# Running querries"
   ]
  },
  {
   "cell_type": "code",
   "execution_count": 118,
   "metadata": {},
   "outputs": [
    {
     "data": {
      "text/plain": [
       "<sqlite3.Cursor at 0x10c9ea3c0>"
      ]
     },
     "execution_count": 118,
     "metadata": {},
     "output_type": "execute_result"
    }
   ],
   "source": [
    "c.execute(\"DROP TABLE IF EXISTS employés\")\n",
    "c.execute(\"DROP TABLE IF EXISTS vacances_2023\")\n",
    "c.execute(\"DROP TABLE IF EXISTS badges\")\n",
    "c.execute(\"DROP TABLE IF EXISTS mails\")\n",
    "c.execute(\"DROP TABLE IF EXISTS congés_2023\")"
   ]
  },
  {
   "cell_type": "code",
   "execution_count": 120,
   "metadata": {},
   "outputs": [],
   "source": [
    "c.execute(\"\"\"\n",
    "CREATE TABLE employés (\n",
    "id INTEGER PRIMARY KEY AUTOINCREMENT, \n",
    "nom VARCHAR, \n",
    "prénom VARCHAR,\n",
    "fonction VARCHAR,\n",
    "salaire INTEGER,\n",
    "date_embauche VARCHAR\n",
    ")\"\"\")\n",
    "c.execute(\"\"\"\n",
    "CREATE TABLE congés_2023 (\n",
    "    date_départ_demandée VARCHAR,\n",
    "    date_départ_accordée VARCHAR,\n",
    "    date_retour_demandée VARCHAR,\n",
    "    date_retour_accordée VARCHAR,\n",
    "    id_employé INTEGER,\n",
    "    FOREIGN KEY (id_employé) REFERENCES employés(id)\n",
    ")\"\"\")\n",
    "c.execute(\"\"\"\n",
    "CREATE TABLE badges (\n",
    "    date_heure_badge VARCHAR,\n",
    "    lieu_badge VARCHAR,\n",
    "    type_badge VARCHAR,\n",
    "    id_employé INTEGER,\n",
    "    FOREIGN KEY (id_employé) REFERENCES employés(id)\n",
    ")\"\"\")\n",
    "c.execute(\n",
    "\"\"\"CREATE TABLE mails (\n",
    "    date TEXT,\n",
    "    contenu TEXT,\n",
    "    id_expéditeur INTEGER,\n",
    "    id_destinataire INTEGER,\n",
    "    FOREIGN KEY (id_expéditeur) REFERENCES employés(id),\n",
    "    FOREIGN KEY (id_destinataire) REFERENCES employés(id)\n",
    ")\"\"\")\n",
    "conn.commit()"
   ]
  },
  {
   "cell_type": "code",
   "execution_count": 123,
   "metadata": {},
   "outputs": [
    {
     "ename": "ParseError",
     "evalue": "Can't parse date string `8`",
     "output_type": "error",
     "traceback": [
      "\u001b[0;31m---------------------------------------------------------------------------\u001b[0m",
      "\u001b[0;31mParseError\u001b[0m                                Traceback (most recent call last)",
      "\u001b[1;32m/Users/florian/Documents/M1/BDD/database_enquête.ipynb Cell 8\u001b[0m line \u001b[0;36m1\n\u001b[0;32m----> <a href='vscode-notebook-cell:/Users/florian/Documents/M1/BDD/database_enque%CC%82te.ipynb#X32sZmlsZQ%3D%3D?line=0'>1</a>\u001b[0m time \u001b[39m=\u001b[39m fake\u001b[39m.\u001b[39;49mdate_time_between(start_date\u001b[39m=\u001b[39;49m\u001b[39m\"\u001b[39;49m\u001b[39m8\u001b[39;49m\u001b[39m\"\u001b[39;49m,end_date\u001b[39m=\u001b[39;49m\u001b[39m\"\u001b[39;49m\u001b[39m21\u001b[39;49m\u001b[39m\"\u001b[39;49m)\n",
      "File \u001b[0;32m/opt/homebrew/lib/python3.11/site-packages/faker/providers/date_time/__init__.py:2049\u001b[0m, in \u001b[0;36mProvider.date_time_between\u001b[0;34m(self, start_date, end_date, tzinfo)\u001b[0m\n\u001b[1;32m   2033\u001b[0m \u001b[39mdef\u001b[39;00m \u001b[39mdate_time_between\u001b[39m(\n\u001b[1;32m   2034\u001b[0m     \u001b[39mself\u001b[39m,\n\u001b[1;32m   2035\u001b[0m     start_date: DateParseType \u001b[39m=\u001b[39m \u001b[39m\"\u001b[39m\u001b[39m-30y\u001b[39m\u001b[39m\"\u001b[39m,\n\u001b[1;32m   2036\u001b[0m     end_date: DateParseType \u001b[39m=\u001b[39m \u001b[39m\"\u001b[39m\u001b[39mnow\u001b[39m\u001b[39m\"\u001b[39m,\n\u001b[1;32m   2037\u001b[0m     tzinfo: Optional[TzInfo] \u001b[39m=\u001b[39m \u001b[39mNone\u001b[39;00m,\n\u001b[1;32m   2038\u001b[0m ) \u001b[39m-\u001b[39m\u001b[39m>\u001b[39m datetime:\n\u001b[1;32m   2039\u001b[0m \u001b[39m    \u001b[39m\u001b[39m\"\"\"\u001b[39;00m\n\u001b[1;32m   2040\u001b[0m \u001b[39m    Get a datetime object based on a random date between two given dates.\u001b[39;00m\n\u001b[1;32m   2041\u001b[0m \u001b[39m    Accepts date strings that can be recognized by strtotime().\u001b[39;00m\n\u001b[0;32m   (...)\u001b[0m\n\u001b[1;32m   2047\u001b[0m \u001b[39m    :return: datetime\u001b[39;00m\n\u001b[1;32m   2048\u001b[0m \u001b[39m    \"\"\"\u001b[39;00m\n\u001b[0;32m-> 2049\u001b[0m     start_date \u001b[39m=\u001b[39m \u001b[39mself\u001b[39;49m\u001b[39m.\u001b[39;49m_parse_date_time(start_date, tzinfo\u001b[39m=\u001b[39;49mtzinfo)\n\u001b[1;32m   2050\u001b[0m     end_date \u001b[39m=\u001b[39m \u001b[39mself\u001b[39m\u001b[39m.\u001b[39m_parse_date_time(end_date, tzinfo\u001b[39m=\u001b[39mtzinfo)\n\u001b[1;32m   2051\u001b[0m     \u001b[39mif\u001b[39;00m end_date \u001b[39m-\u001b[39m start_date \u001b[39m<\u001b[39m\u001b[39m=\u001b[39m \u001b[39m1\u001b[39m:\n",
      "File \u001b[0;32m/opt/homebrew/lib/python3.11/site-packages/faker/providers/date_time/__init__.py:2009\u001b[0m, in \u001b[0;36mProvider._parse_date_time\u001b[0;34m(cls, value, tzinfo)\u001b[0m\n\u001b[1;32m   2007\u001b[0m     \u001b[39mif\u001b[39;00m value \u001b[39m==\u001b[39m \u001b[39m\"\u001b[39m\u001b[39mnow\u001b[39m\u001b[39m\"\u001b[39m:\n\u001b[1;32m   2008\u001b[0m         \u001b[39mreturn\u001b[39;00m datetime_to_timestamp(datetime\u001b[39m.\u001b[39mnow(tzinfo))\n\u001b[0;32m-> 2009\u001b[0m     time_params \u001b[39m=\u001b[39m \u001b[39mcls\u001b[39;49m\u001b[39m.\u001b[39;49m_parse_date_string(value)\n\u001b[1;32m   2010\u001b[0m     \u001b[39mreturn\u001b[39;00m datetime_to_timestamp(now \u001b[39m+\u001b[39m timedelta(\u001b[39m*\u001b[39m\u001b[39m*\u001b[39mtime_params))  \u001b[39m# type: ignore\u001b[39;00m\n\u001b[1;32m   2011\u001b[0m \u001b[39mif\u001b[39;00m \u001b[39misinstance\u001b[39m(value, \u001b[39mint\u001b[39m):\n",
      "File \u001b[0;32m/opt/homebrew/lib/python3.11/site-packages/faker/providers/date_time/__init__.py:1985\u001b[0m, in \u001b[0;36mProvider._parse_date_string\u001b[0;34m(cls, value)\u001b[0m\n\u001b[1;32m   1982\u001b[0m     time_params[\u001b[39m\"\u001b[39m\u001b[39mdays\u001b[39m\u001b[39m\"\u001b[39m] \u001b[39m+\u001b[39m\u001b[39m=\u001b[39m \u001b[39m30.42\u001b[39m \u001b[39m*\u001b[39m time_params\u001b[39m.\u001b[39mpop(\u001b[39m\"\u001b[39m\u001b[39mmonths\u001b[39m\u001b[39m\"\u001b[39m)\n\u001b[1;32m   1984\u001b[0m \u001b[39mif\u001b[39;00m \u001b[39mnot\u001b[39;00m time_params:\n\u001b[0;32m-> 1985\u001b[0m     \u001b[39mraise\u001b[39;00m ParseError(\u001b[39mf\u001b[39m\u001b[39m\"\u001b[39m\u001b[39mCan\u001b[39m\u001b[39m'\u001b[39m\u001b[39mt parse date string `\u001b[39m\u001b[39m{\u001b[39;00mvalue\u001b[39m}\u001b[39;00m\u001b[39m`\u001b[39m\u001b[39m\"\u001b[39m)\n\u001b[1;32m   1986\u001b[0m \u001b[39mreturn\u001b[39;00m time_params\n",
      "\u001b[0;31mParseError\u001b[0m: Can't parse date string `8`"
     ]
    }
   ],
   "source": [
    "time = fake.date_time_between(start_date=\"8\",end_date=\"21\")"
   ]
  },
  {
   "cell_type": "code",
   "execution_count": 115,
   "metadata": {},
   "outputs": [],
   "source": [
    "def génération_congés():\n",
    "    data = []\n",
    "    ids_employés = list(range(1001))\n",
    "    for i in range(1001):\n",
    "        date_départ_demandée = fake.date_between(start_date=\"-1y\",end_date=\"today\")\n",
    "        proba = random.randint(0,10)\n",
    "        if proba in [0,1,2,3,4,5,6,7,8]:\n",
    "            date_départ_accordée = date_départ_demandée\n",
    "        else:\n",
    "            date_départ_accordée = timedelta(days=random.randint(-10,10))\n",
    "            date_départ_accordée = date_départ_demandée + date_départ_accordée\n",
    "        temps_congé = random.choice((7,14))\n",
    "        temps_congé = timedelta(days=temps_congé)\n",
    "        date_retour_demandée = date_départ_demandée + temps_congé\n",
    "        date_retour_accordée = date_départ_accordée + temps_congé\n",
    "        id_employé = random.choice(ids_employés)\n",
    "        ids_employés.remove(id_employé)\n",
    "        data.append([date_départ_demandée,date_départ_accordée,date_retour_demandée,date_retour_accordée,id_employé])\n",
    "    return data\n",
    "\n"
   ]
  },
  {
   "cell_type": "code",
   "execution_count": 114,
   "metadata": {},
   "outputs": [
    {
     "name": "stdout",
     "output_type": "stream",
     "text": [
      "1\n",
      "4\n",
      "3\n",
      "9\n",
      "5\n",
      "6\n",
      "7\n",
      "8\n",
      "2\n"
     ]
    }
   ],
   "source": [
    "ids = list(range(1,10))\n",
    "for i in range(1,10):\n",
    "    id = random.choice(ids)\n",
    "    print(id)\n",
    "    ids.remove(id)"
   ]
  },
  {
   "cell_type": "code",
   "execution_count": 105,
   "metadata": {},
   "outputs": [],
   "source": [
    "a = list(range(1,10))\n",
    "a.remove(1)"
   ]
  },
  {
   "cell_type": "code",
   "execution_count": 121,
   "metadata": {},
   "outputs": [],
   "source": [
    "insert_query = \"\"\"INSERT INTO congés_2023 (date_départ_demandée, date_départ_accordée, date_retour_demandée, \n",
    "                date_retour_accordée, id_employé) VALUES (?,?,?,?,?)\"\"\"\n",
    "c.executemany (insert_query, génération_congés())\n",
    "conn.commit()"
   ]
  },
  {
   "cell_type": "markdown",
   "metadata": {},
   "source": [
    "### PAS POSSIBLE DE FAIRE COMME CI-DESSOUS ÇA MALHEUREUSEMENT "
   ]
  },
  {
   "cell_type": "code",
   "execution_count": 27,
   "metadata": {},
   "outputs": [
    {
     "ename": "ProgrammingError",
     "evalue": "You can only execute one statement at a time.",
     "output_type": "error",
     "traceback": [
      "\u001b[0;31m---------------------------------------------------------------------------\u001b[0m",
      "\u001b[0;31mProgrammingError\u001b[0m                          Traceback (most recent call last)",
      "\u001b[1;32m/Users/florian/Documents/M1/BDD/enquete/database_enquête.ipynb Cell 8\u001b[0m line \u001b[0;36m3\n\u001b[1;32m     <a href='vscode-notebook-cell:/Users/florian/Documents/M1/BDD/enquete/database_enque%CC%82te.ipynb#X10sZmlsZQ%3D%3D?line=17'>18</a>\u001b[0m badges \u001b[39m=\u001b[39m \u001b[39m\"\"\"\u001b[39m\n\u001b[1;32m     <a href='vscode-notebook-cell:/Users/florian/Documents/M1/BDD/enquete/database_enque%CC%82te.ipynb#X10sZmlsZQ%3D%3D?line=18'>19</a>\u001b[0m \u001b[39mCREATE TABLE vacances_2023 (\u001b[39m\n\u001b[1;32m     <a href='vscode-notebook-cell:/Users/florian/Documents/M1/BDD/enquete/database_enque%CC%82te.ipynb#X10sZmlsZQ%3D%3D?line=19'>20</a>\u001b[0m \u001b[39m    date_départ VARCHAR,\u001b[39m\n\u001b[0;32m   (...)\u001b[0m\n\u001b[1;32m     <a href='vscode-notebook-cell:/Users/florian/Documents/M1/BDD/enquete/database_enque%CC%82te.ipynb#X10sZmlsZQ%3D%3D?line=23'>24</a>\u001b[0m \u001b[39m    FOREIGN KEY (id_employé) REFERENCES employés(id)\u001b[39m\n\u001b[1;32m     <a href='vscode-notebook-cell:/Users/florian/Documents/M1/BDD/enquete/database_enque%CC%82te.ipynb#X10sZmlsZQ%3D%3D?line=24'>25</a>\u001b[0m \u001b[39m);\u001b[39m\u001b[39m\"\"\"\u001b[39m\n\u001b[1;32m     <a href='vscode-notebook-cell:/Users/florian/Documents/M1/BDD/enquete/database_enque%CC%82te.ipynb#X10sZmlsZQ%3D%3D?line=25'>26</a>\u001b[0m mails \u001b[39m=\u001b[39m \u001b[39m\"\"\"\u001b[39m\n\u001b[1;32m     <a href='vscode-notebook-cell:/Users/florian/Documents/M1/BDD/enquete/database_enque%CC%82te.ipynb#X10sZmlsZQ%3D%3D?line=26'>27</a>\u001b[0m \u001b[39mCREATE TABLE mails (\u001b[39m\n\u001b[1;32m     <a href='vscode-notebook-cell:/Users/florian/Documents/M1/BDD/enquete/database_enque%CC%82te.ipynb#X10sZmlsZQ%3D%3D?line=27'>28</a>\u001b[0m \u001b[39m    date \u001b[39m\n\u001b[0;32m   (...)\u001b[0m\n\u001b[1;32m     <a href='vscode-notebook-cell:/Users/florian/Documents/M1/BDD/enquete/database_enque%CC%82te.ipynb#X10sZmlsZQ%3D%3D?line=33'>34</a>\u001b[0m \u001b[39m)\u001b[39m\n\u001b[1;32m     <a href='vscode-notebook-cell:/Users/florian/Documents/M1/BDD/enquete/database_enque%CC%82te.ipynb#X10sZmlsZQ%3D%3D?line=34'>35</a>\u001b[0m \u001b[39m\"\"\"\u001b[39m\n\u001b[0;32m---> <a href='vscode-notebook-cell:/Users/florian/Documents/M1/BDD/enquete/database_enque%CC%82te.ipynb#X10sZmlsZQ%3D%3D?line=35'>36</a>\u001b[0m c\u001b[39m.\u001b[39;49mexecute(employés\u001b[39m+\u001b[39;49mvacances_2023\u001b[39m+\u001b[39;49mbadges)\n",
      "\u001b[0;31mProgrammingError\u001b[0m: You can only execute one statement at a time."
     ]
    }
   ],
   "source": [
    "employés = \"\"\"\n",
    "CREATE TABLE employés (\n",
    "id INTEGER PRIMARY KEY AUTOINCREMENT, \n",
    "nom VARCHAR, \n",
    "prénom VARCHAR,\n",
    "fonction VARCHAR,\n",
    "salaire INTEGER,\n",
    "date_embauche VARCHAR\n",
    ");\"\"\"\n",
    "vacances_2023 = \"\"\"\n",
    "CREATE TABLE vacances_2023 (\n",
    "    date_départ VARCHAR,\n",
    "    date_retour VARCHAR,\n",
    "    date_pose VARCHAR,\n",
    "    id_employé INTEGER,\n",
    "    FOREIGN KEY (id_employé) REFERENCES employés(id)\n",
    ");\"\"\"\n",
    "badges = \"\"\"\n",
    "CREATE TABLE vacances_2023 (\n",
    "    date_départ VARCHAR,\n",
    "    date_retour VARCHAR,\n",
    "    date_pose VARCHAR,\n",
    "    id_employé INTEGER,\n",
    "    FOREIGN KEY (id_employé) REFERENCES employés(id)\n",
    ");\"\"\"\n",
    "mails = \"\"\"\n",
    "CREATE TABLE mails (\n",
    "    date \n",
    "    contenu TEXT\n",
    "    id_expéditeur INTEGER\n",
    "    id_destinataire INTEGER\n",
    "    FOREIGN KEY (id_expéditeur) REFERENCES employés(id)\n",
    "    FOREIGN KEY (id_destinataire) REFERENCES employés(id)\n",
    ")\n",
    "\"\"\"\n",
    "c.execute(employés+vacances_2023+badges)"
   ]
  },
  {
   "cell_type": "code",
   "execution_count": 98,
   "metadata": {},
   "outputs": [
    {
     "name": "stdout",
     "output_type": "stream",
     "text": [
      "['Lévêque', 'Denise', 'PDG', 49863, datetime.date(2019, 5, 18)]\n",
      "['Benard', 'Margaud', 'Expert machine learning', 75907, datetime.date(2022, 3, 3)]\n",
      "['Bazin', 'Marguerite', 'Expert machine learning', 132800, datetime.date(2020, 11, 9)]\n",
      "['Tessier', 'Benoît', 'Ingénieur TAL', 100876, datetime.date(2019, 1, 13)]\n",
      "['Bonnet', 'Gérard', 'Informaticien réseau', 45087, datetime.date(2020, 1, 5)]\n",
      "['Salmon', 'Zoé', 'Chef de projet', 72774, datetime.date(2021, 6, 7)]\n",
      "['Bouvier', 'Julie', 'Ingénieur TAL', 7169, datetime.date(2022, 6, 11)]\n",
      "['Diallo', 'Victor', 'Développeur', 42198, datetime.date(2020, 5, 3)]\n",
      "['Pruvost', 'Lorraine', 'Chef de projet', 125792, datetime.date(2019, 1, 30)]\n",
      "['Leclercq', 'Mathilde', 'Expert machine learning', 26257, datetime.date(2018, 12, 30)]\n"
     ]
    }
   ],
   "source": [
    "import random\n",
    "from faker import Faker\n",
    "from datetime import datetime, timedelta\n",
    "\n",
    "fake = Faker('fr_FR')  # Utiliser le français comme langue\n",
    "\n",
    "def generate_employee(index):\n",
    "    first_name = fake.first_name()\n",
    "    last_name = fake.last_name()\n",
    "    \n",
    "    # Assurer qu'il n'y a qu'un seul PDG\n",
    "    if index == 0:\n",
    "        function = 'PDG'\n",
    "    else:\n",
    "        function = random.choice(['Ingénieur TAL', 'Informaticien réseau', 'Expert machine learning','Développeur','Chef de projet'])\n",
    "    \n",
    "    salary = round(random.uniform(2000, 150000))  # Salaire aléatoire entre 50000 et 120000\n",
    "    hire_date = fake.date_between(start_date='-5y', end_date='today')\n",
    "    return [last_name, first_name, function, salary, hire_date]\n",
    "\n",
    "employees = [generate_employee(i) for i in range(1000)]\n",
    "\n",
    "# Afficher les 10 premiers employés pour vérifier\n",
    "for employee in employees[:10]:\n",
    "    print(employee)\n",
    "\n"
   ]
  },
  {
   "cell_type": "code",
   "execution_count": 99,
   "metadata": {},
   "outputs": [],
   "source": [
    "insert_query = \"INSERT INTO employés(nom, prénom, fonction, salaire, date_embauche) VALUES (?,?,?,?,?)\"\n",
    "\n",
    "c.executemany (insert_query, employees)\n",
    "conn.commit()"
   ]
  },
  {
   "cell_type": "code",
   "execution_count": 101,
   "metadata": {},
   "outputs": [],
   "source": [
    "insert_query = \"INSERT INTO mails (date, contenu, id_expéditeur, id_destinataire) VALUES (?,?,?,?)\"\n",
    "c.executemany (insert_query, mails)\n",
    "conn.commit()"
   ]
  },
  {
   "cell_type": "code",
   "execution_count": null,
   "metadata": {},
   "outputs": [],
   "source": [
    "print(len(employees))"
   ]
  },
  {
   "cell_type": "code",
   "execution_count": null,
   "metadata": {},
   "outputs": [],
   "source": [
    "date = str(fake.date_between(start_date=\"-1y\", end_date='today'))\n",
    "time = fake.time()\n",
    "date += f\"|{time}\"\n",
    "print(date)"
   ]
  },
  {
   "cell_type": "code",
   "execution_count": 122,
   "metadata": {},
   "outputs": [],
   "source": [
    "def génération_mails():\n",
    "    mails = []\n",
    "    ouverture = [\"Cher collègue,\\n\\n\",\"Salut\\n\\n\",\"Bonjour\\n\\n\"]\n",
    "    fermeture = [\"Bien à toi\\n\\n\",\"Bien cordialement\\n\\n\",\"À +\",\"À tout à l'heure\"]\n",
    "    for i in range(0,40000):\n",
    "        date = str(fake.date_between(start_date=\"-1y\", end_date='today'))\n",
    "        time = fake.time()\n",
    "        date += f\"|{time}\"\n",
    "        id_expéditeur = random.randint(1,1000)\n",
    "        id_destinataire = random.randint(1,1000)\n",
    "        texte = random.choice(ouverture)\n",
    "        texte += fake.text()\n",
    "        texte += random.choice(fermeture)\n",
    "        mails.append([date,texte,id_expéditeur,id_destinataire])\n",
    "    return mails"
   ]
  },
  {
   "cell_type": "code",
   "execution_count": 5,
   "metadata": {},
   "outputs": [],
   "source": [
    "date_départ_demandée = fake.date_between(start_date=\"-1\", end_date=\"today\")"
   ]
  },
  {
   "cell_type": "code",
   "execution_count": 2,
   "metadata": {},
   "outputs": [
    {
     "ename": "NameError",
     "evalue": "name 'c' is not defined",
     "output_type": "error",
     "traceback": [
      "\u001b[0;31m---------------------------------------------------------------------------\u001b[0m",
      "\u001b[0;31mNameError\u001b[0m                                 Traceback (most recent call last)",
      "\u001b[1;32m/Users/florian/Documents/M1/BDD/db_enquête/database_enquête.ipynb Cell 22\u001b[0m line \u001b[0;36m7\n\u001b[1;32m      <a href='vscode-notebook-cell:/Users/florian/Documents/M1/BDD/db_enque%CC%82te/database_enque%CC%82te.ipynb#X31sZmlsZQ%3D%3D?line=0'>1</a>\u001b[0m query_vacances \u001b[39m=\u001b[39m \u001b[39m\"\"\"\u001b[39m\n\u001b[1;32m      <a href='vscode-notebook-cell:/Users/florian/Documents/M1/BDD/db_enque%CC%82te/database_enque%CC%82te.ipynb#X31sZmlsZQ%3D%3D?line=1'>2</a>\u001b[0m \u001b[39mSELECT id\u001b[39m\n\u001b[1;32m      <a href='vscode-notebook-cell:/Users/florian/Documents/M1/BDD/db_enque%CC%82te/database_enque%CC%82te.ipynb#X31sZmlsZQ%3D%3D?line=2'>3</a>\u001b[0m \u001b[39mFROM employés\u001b[39m\n\u001b[1;32m      <a href='vscode-notebook-cell:/Users/florian/Documents/M1/BDD/db_enque%CC%82te/database_enque%CC%82te.ipynb#X31sZmlsZQ%3D%3D?line=3'>4</a>\u001b[0m \u001b[39mINNER JOIN congés_2023 ON employés.id = congés_2023.id_employé\u001b[39m\n\u001b[1;32m      <a href='vscode-notebook-cell:/Users/florian/Documents/M1/BDD/db_enque%CC%82te/database_enque%CC%82te.ipynb#X31sZmlsZQ%3D%3D?line=4'>5</a>\u001b[0m \u001b[39mWHERE \u001b[39m\u001b[39m\"\u001b[39m\u001b[39m2023-04-01\u001b[39m\u001b[39m\"\u001b[39m\u001b[39m BETWEEN date_départ_accordée AND date_retour_accordée\u001b[39m\n\u001b[1;32m      <a href='vscode-notebook-cell:/Users/florian/Documents/M1/BDD/db_enque%CC%82te/database_enque%CC%82te.ipynb#X31sZmlsZQ%3D%3D?line=5'>6</a>\u001b[0m \u001b[39m\"\"\"\u001b[39m\n\u001b[0;32m----> <a href='vscode-notebook-cell:/Users/florian/Documents/M1/BDD/db_enque%CC%82te/database_enque%CC%82te.ipynb#X31sZmlsZQ%3D%3D?line=6'>7</a>\u001b[0m res \u001b[39m=\u001b[39m c\u001b[39m.\u001b[39mexecute(query_vacances)\n\u001b[1;32m      <a href='vscode-notebook-cell:/Users/florian/Documents/M1/BDD/db_enque%CC%82te/database_enque%CC%82te.ipynb#X31sZmlsZQ%3D%3D?line=7'>8</a>\u001b[0m disculpés \u001b[39m=\u001b[39m [elem[\u001b[39m0\u001b[39m]\u001b[39mfor\u001b[39;00m elem \u001b[39min\u001b[39;00m res\u001b[39m.\u001b[39mfetchall()]\n\u001b[1;32m      <a href='vscode-notebook-cell:/Users/florian/Documents/M1/BDD/db_enque%CC%82te/database_enque%CC%82te.ipynb#X31sZmlsZQ%3D%3D?line=8'>9</a>\u001b[0m suspects \u001b[39m=\u001b[39m \u001b[39mlist\u001b[39m(\u001b[39mrange\u001b[39m(\u001b[39m5001\u001b[39m))\n",
      "\u001b[0;31mNameError\u001b[0m: name 'c' is not defined"
     ]
    }
   ],
   "source": [
    "query_vacances = \"\"\"\n",
    "SELECT id\n",
    "FROM employés\n",
    "INNER JOIN congés_2023 ON employés.id = congés_2023.id_employé\n",
    "WHERE \"2023-04-01\" BETWEEN date_départ_accordée AND date_retour_accordée\n",
    "\"\"\"\n",
    "res = c.execute(query_vacances)\n",
    "disculpés = [elem[0]for elem in res.fetchall()]\n",
    "suspects = list(range(5001))\n",
    "suspects = [suspect for suspect in suspects if suspect not in disculpés]\n",
    "suspects = \", \".join(map(str,suspects))\n",
    "query_prénoms = f\"SELECT prénom FROM employés WHERE id IN ({suspects})\"\n",
    "prénoms = c.execute(query_prénoms)\n",
    "prénoms = [elem[0] for elem in prénoms.fetchall()]\n",
    "\n"
   ]
  }
 ],
 "metadata": {
  "kernelspec": {
   "display_name": "Python 3",
   "language": "python",
   "name": "python3"
  },
  "language_info": {
   "codemirror_mode": {
    "name": "ipython",
    "version": 3
   },
   "file_extension": ".py",
   "mimetype": "text/x-python",
   "name": "python",
   "nbconvert_exporter": "python",
   "pygments_lexer": "ipython3",
   "version": "3.11.6"
  }
 },
 "nbformat": 4,
 "nbformat_minor": 2
}
