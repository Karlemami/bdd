{
  "cells": [
    {
      "cell_type": "markdown",
      "metadata": {},
      "source": [
        "<br><br><br><br><br><br><br><br><br><br><br><br><br><br><br><br><br><br><br><br><br><br><br><br><br><br><br><br><br><br><br><br><br><br><br><br>"
      ]
    },
    {
      "cell_type": "code",
      "execution_count": null,
      "metadata": {
        "id": "dcWBavZdxbT8"
      },
      "outputs": [],
      "source": [
        "import sqlite3\n",
        "from tabulate import tabulate\n",
        "conn = sqlite3.connect(\"../enquete.db\")\n",
        "c = conn.cursor()"
      ]
    },
    {
      "cell_type": "code",
      "execution_count": null,
      "metadata": {
        "id": "r4pWbDtKyUvk"
      },
      "outputs": [],
      "source": [
        "suspects = list(range(5001))"
      ]
    },
    {
      "cell_type": "markdown",
      "metadata": {},
      "source": [
        "<br><br><br><br><br><br><br><br><br><br><br><br><br><br><br><br><br><br>"
      ]
    },
    {
      "cell_type": "code",
      "execution_count": null,
      "metadata": {
        "colab": {
          "base_uri": "https://localhost:8080/",
          "height": 229
        },
        "id": "pys2t24PzrOw",
        "outputId": "e4869f41-7b70-4e8d-e56f-880548a5eecc"
      },
      "outputs": [],
      "source": [
        "query_vacances = \"\"\"\n",
        "SELECT id\n",
        "FROM employés\n",
        "INNER JOIN congés_2023 ON employés.id = congés_2023.id_employé\n",
        "WHERE \"2023-12-14\" BETWEEN  date_départ_accordée AND date_retour_accordée\n",
        "\"\"\"\n",
        "disculpés = c.execute(query_vacances)\n",
        "disculpés = [elem[0]for elem in disculpés.fetchall()]\n",
        "print(\"Nombre de personnes absentes le jour du meurtre :\",len(disculpés))"
      ]
    },
    {
      "cell_type": "code",
      "execution_count": null,
      "metadata": {
        "id": "FnKHTs3C0DKj"
      },
      "outputs": [],
      "source": [
        "suspects = [suspect for suspect in suspects if suspect not in disculpés]\n",
        "print(\"Nombre de personnes suspectes :\",len(suspects))"
      ]
    },
    {
      "cell_type": "markdown",
      "metadata": {
        "id": "wl_HpJYEqBbd"
      },
      "source": [
        "<br><br><br><br><br><br><br><br><br><br><br><br><br><br><br><br><br>"
      ]
    },
    {
      "cell_type": "code",
      "execution_count": null,
      "metadata": {
        "colab": {
          "base_uri": "https://localhost:8080/",
          "height": 385
        },
        "id": "SsF0vbb01VQu",
        "outputId": "7d5f06eb-8ca4-4d08-ace4-f75d09e9db78"
      },
      "outputs": [],
      "source": [
        "!rm mails_boss.md\n",
        "from Mail import Mail\n",
        "\n",
        "query_mails = \"\"\"\n",
        "SELECT * FROM mails\n",
        "WHERE id_expéditeur NOT IN (\n",
        "    SELECT id_employé FROM congés_2023\n",
        "    WHERE \"2023-12-14\" BETWEEN  date_départ_accordée AND date_retour_accordée\n",
        ")\n",
        "\"\"\"\n",
        "\n",
        "mails = c.execute(query_mails)\n",
        "\n",
        "mails = mails.fetchall()\n",
        "\n",
        "for line in mails:\n",
        "    mail = Mail(line)\n",
        "    regex_boss = r\"PDG|[Bb]oss|[Pp]atron|(Jean)? ?Dubois\"\n",
        "    mail.find_regex_in_mails(regex_boss, \"mails_boss.md\")\n",
        "\n",
        "!open  mails_boss.md"
      ]
    },
    {
      "cell_type": "markdown",
      "metadata": {},
      "source": [
        "<br><br><br><br><br><br><br><br><br><br><br><br><br><br><br><br>"
      ]
    },
    {
      "cell_type": "code",
      "execution_count": null,
      "metadata": {
        "id": "0X89vPLV7BiO",
        "outputId": "0a7e2cec-9712-4d80-8361-1e2b6a311f34"
      },
      "outputs": [],
      "source": [
        "query_employés_louches = \"\"\"\n",
        "SELECT * FROM employés\n",
        "WHERE id IN (728,3789,2309)\n",
        "\"\"\"\n",
        "employés_louches = c.execute(query_employés_louches)\n",
        "employés_louches = employés_louches.fetchall()\n",
        "headers = [\"id\",\"nom\",\"prénom\",\"fonction\",\"salaire\",\"date d'embauche\",\"id_projet\"]\n",
        "print(tabulate(employés_louches,headers,tablefmt=\"fancy_grid\"))"
      ]
    },
    {
      "cell_type": "markdown",
      "metadata": {
        "id": "YQ9Iexacca48"
      },
      "source": [
        "<br><br><br><br><br><br><br><br><br><br><br><br><br><br><br>"
      ]
    },
    {
      "cell_type": "markdown",
      "metadata": {
        "id": "XPL7lRHiCncC"
      },
      "source": [
        "<br></br>\n",
        "<br></br>"
      ]
    },
    {
      "cell_type": "code",
      "execution_count": null,
      "metadata": {
        "id": "zyuHKtthqBbi",
        "outputId": "71478a21-2ca8-469d-dee9-367c0aac3d13"
      },
      "outputs": [],
      "source": [
        "projet4 = c.execute(\"SELECT * FROM projets WHERE id_projet = 4\")\n",
        "projet4 = projet4.fetchall()\n",
        "headers = [\"id projet\",\"nom projet\",\"description projet\",\"date début projet\",\"id chef de projet\"]\n",
        "print(tabulate(projet4,headers,tablefmt=\"fancy_grid\"))"
      ]
    },
    {
      "cell_type": "markdown",
      "metadata": {
        "id": "Uc6yuQM1qBbj"
      },
      "source": [
        "<br><br><br><br><br><br><br><br><br><br><br><br><br><br><br><br><br>"
      ]
    },
    {
      "cell_type": "code",
      "execution_count": null,
      "metadata": {},
      "outputs": [],
      "source": [
        "query_nombre_employes_projet = \"\"\"\n",
        "SELECT COUNT(*)\n",
        "FROM employés\n",
        "WHERE id_projet = 4\n",
        "AND employés.id NOT in (SELECT id\n",
        "                        FROM employés\n",
        "                        INNER JOIN congés_2023\n",
        "                        ON employés.id = congés_2023.id_employé\n",
        "                        WHERE \"2023-12-14\" BETWEEN date_départ_accordée AND date_retour_accordée);\n",
        "\"\"\"\n",
        "\n",
        "nombre_employés = c.execute(query_nombre_employes_projet)\n",
        "nombre_employés = nombre_employés.fetchone()\n",
        "print(\"Nombre d'employés dans le projet TitanAI : \",nombre_employés[0])"
      ]
    },
    {
      "cell_type": "code",
      "execution_count": null,
      "metadata": {},
      "outputs": [],
      "source": [
        "query_infos_employes_projet = \"\"\"\n",
        "SELECT *\n",
        "FROM employés\n",
        "WHERE id_projet = 4\n",
        "AND employés.id NOT in (SELECT id\n",
        "                        FROM employés\n",
        "                        INNER JOIN congés_2023\n",
        "                        ON employés.id = congés_2023.id_employé\n",
        "                        WHERE \"2023-12-14\" BETWEEN date_départ_accordée AND date_retour_accordée);\n",
        "\"\"\"\n",
        "\n",
        "membres = c.execute(query_infos_employes_projet)\n",
        "membres = membres.fetchall()\n",
        "headers = [\"id\",\"nom\",\"prénom\",\"fonction\",\"salaire\",\"date d'embauche\",\"id_projet\"]\n",
        "print(tabulate(membres,headers,tablefmt=\"fancy_grid\"))"
      ]
    },
    {
      "cell_type": "code",
      "execution_count": null,
      "metadata": {},
      "outputs": [],
      "source": [
        "query_moyenne_salaires = \"\"\"\n",
        "SELECT projets.nom_projet, AVG(employés.salaire) as salaire_moyen\n",
        "FROM employés\n",
        "INNER JOIN projets ON employés.id_projet = projets.id_projet\n",
        "WHERE employés.id_projet IS NOT NULL\n",
        "GROUP BY nom_projet\n",
        "HAVING COUNT(employés.id_projet) > 5\n",
        "\"\"\"\n",
        "\n",
        "salaires_moyens = c.execute(query_moyenne_salaires)\n",
        "salaires_moyens = salaires_moyens.fetchall()\n",
        "headers = [\"nom du projet\", \"salaire moyen\"]\n",
        "print(tabulate(salaires_moyens, headers, tablefmt=\"fancy_grid\"))"
      ]
    },
    {
      "cell_type": "markdown",
      "metadata": {
        "id": "EmSPPV0YCJAV"
      },
      "source": [
        "<br></br><br></br><br></br><br></br><br></br><br></br><br></br><br></br><br></br>\n"
      ]
    },
    {
      "cell_type": "code",
      "execution_count": null,
      "metadata": {
        "id": "S8Pcb6ed4_ag",
        "outputId": "c137db58-bfa6-43e7-e8ce-dbf1a836e2d3"
      },
      "outputs": [],
      "source": [
        "!rm mails_project.md\n",
        "for line in mails:\n",
        "    mail = Mail(line)\n",
        "    regex_project = \"((projet)?[tT]itan[aA][iI])\"\n",
        "    # regex_project = \"Titan\"\n",
        "    mail.find_regex_in_mails(regex_project, \"mails_project.md\")\n",
        "\n",
        "!open mails_project.md"
      ]
    },
    {
      "cell_type": "markdown",
      "metadata": {},
      "source": [
        "<br><br><br><br><br><br><br><br><br><br><br><br><br><br><br><br><br><br><br><br>"
      ]
    },
    {
      "cell_type": "code",
      "execution_count": null,
      "metadata": {
        "id": "NfsxCC8e6cSo",
        "outputId": "ec15550b-a420-4d24-e6ff-94a8b3f3fe68"
      },
      "outputs": [],
      "source": [
        "query_caméras_badges = \"\"\"\n",
        "SELECT nom, prénom, lieu_badge,date_heure_badge,type_badge,lieu,heure,action\n",
        "FROM employés\n",
        "INNER JOIN reconnaissance_caméras_2023_04_01 on employés.id = reconnaissance_caméras_2023_04_01.id_employé\n",
        "INNER JOIN badges_2023 ON employés.id = badges_2023.id_employé\n",
        "WHERE date_heure_badge LIKE \"2023-12-14|14:%\"\n",
        "AND heure LIKE \"14:%\"\n",
        "AND employés.id IN (728,2309,3789)\"\"\"\n",
        "\n",
        "caméras_badges = c.execute(query_caméras_badges)\n",
        "caméras_badges = caméras_badges.fetchall()\n",
        "headers = [\"nom\",\"prénom\",\"lieu badge\",\"heure badge\",\"type badge\",\"lieu caméra\",\"heure caméra\",\"action caméra\"]\n",
        "print(tabulate(caméras_badges,headers,tablefmt=\"fancy_grid\"))"
      ]
    },
    {
      "cell_type": "code",
      "execution_count": null,
      "metadata": {},
      "outputs": [],
      "source": [
        "query_caméras_badges = \"\"\"\n",
        "SELECT nom, prénom, lieu_badge,date_heure_badge,type_badge,lieu,heure,action\n",
        "FROM employés\n",
        "INNER JOIN reconnaissance_caméras_2023_04_01 on employés.id = reconnaissance_caméras_2023_04_01.id_employé\n",
        "INNER JOIN badges_2023 ON employés.id = badges_2023.id_employé\n",
        "WHERE date_heure_badge LIKE \"2023-12-14|15:%\"\n",
        "AND heure LIKE \"15:%\"\n",
        "AND employés.id IN (728,2309,3789)\"\"\"\n",
        "\n",
        "caméras_badges = c.execute(query_caméras_badges)\n",
        "caméras_badges = caméras_badges.fetchall()\n",
        "headers = [\"nom\",\"prénom\",\"lieu badge\",\"heure badge\",\"type badge\",\"lieu caméra\",\"heure caméra\",\"action caméra\"]\n",
        "print(tabulate(caméras_badges,headers,tablefmt=\"fancy_grid\"))"
      ]
    },
    {
      "cell_type": "markdown",
      "metadata": {},
      "source": [
        "<br><br><br><br><br><br><br><br><br><br><br><br><br><br><br><br><br><br><br><br><br>"
      ]
    },
    {
      "cell_type": "code",
      "execution_count": 20,
      "metadata": {},
      "outputs": [
        {
          "name": "stdout",
          "output_type": "stream",
          "text": [
            "╒═══════════════╤═══════════════╤══════╕\n",
            "│ date départ   │ date retour   │   id │\n",
            "╞═══════════════╪═══════════════╪══════╡\n",
            "│ 2023-12-14    │ 2023-12-15    │  340 │\n",
            "╘═══════════════╧═══════════════╧══════╛\n"
          ]
        }
      ],
      "source": [
        "c.execute(\"\"\"\n",
        "SELECT date_départ_accordée,date_retour_accordée,id_employé FROM congés_2023 \n",
        "WHERE id_employé = 340\n",
        "\"\"\")\n",
        "congé = c.fetchall()\n",
        "headers = [\"date départ\",\"date retour\",\"id\"]\n",
        "print(tabulate(congé,headers,tablefmt=\"fancy_grid\"))"
      ]
    }
  ],
  "metadata": {
    "colab": {
      "provenance": []
    },
    "kernelspec": {
      "display_name": "Python 3",
      "name": "python3"
    },
    "language_info": {
      "codemirror_mode": {
        "name": "ipython",
        "version": 3
      },
      "file_extension": ".py",
      "mimetype": "text/x-python",
      "name": "python",
      "nbconvert_exporter": "python",
      "pygments_lexer": "ipython3",
      "version": "3.11.6"
    }
  },
  "nbformat": 4,
  "nbformat_minor": 0
}
