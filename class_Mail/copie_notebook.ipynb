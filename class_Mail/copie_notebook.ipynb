{
  "cells": [
    {
      "cell_type": "code",
      "execution_count": 1,
      "metadata": {
        "id": "dcWBavZdxbT8"
      },
      "outputs": [],
      "source": [
        "import sqlite3\n",
        "from tabulate import tabulate\n",
        "conn = sqlite3.connect(\"../enquete.db\")\n",
        "c = conn.cursor()"
      ]
    },
    {
      "cell_type": "code",
      "execution_count": 2,
      "metadata": {
        "id": "r4pWbDtKyUvk"
      },
      "outputs": [],
      "source": [
        "suspects = list(range(5001))"
      ]
    },
    {
      "cell_type": "markdown",
      "metadata": {},
      "source": [
        "<br><br><br><br><br><br><br><br><br><br><br><br><br><br><br><br><br><br>"
      ]
    },
    {
      "cell_type": "code",
      "execution_count": 3,
      "metadata": {
        "colab": {
          "base_uri": "https://localhost:8080/",
          "height": 229
        },
        "id": "pys2t24PzrOw",
        "outputId": "e4869f41-7b70-4e8d-e56f-880548a5eecc"
      },
      "outputs": [
        {
          "name": "stdout",
          "output_type": "stream",
          "text": [
            "Nombre de personnes absentes le jour du meurtre : 65\n"
          ]
        }
      ],
      "source": [
        "query_vacances = \"\"\"\n",
        "SELECT id\n",
        "FROM employés\n",
        "INNER JOIN congés_2023 ON employés.id = congés_2023.id_employé\n",
        "WHERE \"2023-04-01\" BETWEEN  date_départ_accordée AND date_retour_accordée\n",
        "\"\"\"\n",
        "disculpés = c.execute(query_vacances)\n",
        "disculpés = [elem[0]for elem in disculpés.fetchall()]\n",
        "print(\"Nombre de personnes absentes le jour du meurtre :\",len(disculpés))"
      ]
    },
    {
      "cell_type": "code",
      "execution_count": 4,
      "metadata": {
        "id": "FnKHTs3C0DKj"
      },
      "outputs": [
        {
          "name": "stdout",
          "output_type": "stream",
          "text": [
            "Nombre de personnes suspectes : 4936\n"
          ]
        }
      ],
      "source": [
        "suspects = [suspect for suspect in suspects if suspect not in disculpés]\n",
        "print(\"Nombre de personnes suspectes :\",len(suspects))"
      ]
    },
    {
      "cell_type": "markdown",
      "metadata": {
        "id": "wl_HpJYEqBbd"
      },
      "source": [
        "<br><br><br><br><br><br><br><br><br><br><br><br><br><br><br><br><br>"
      ]
    },
    {
      "cell_type": "code",
      "execution_count": 5,
      "metadata": {
        "colab": {
          "base_uri": "https://localhost:8080/",
          "height": 385
        },
        "id": "SsF0vbb01VQu",
        "outputId": "7d5f06eb-8ca4-4d08-ace4-f75d09e9db78"
      },
      "outputs": [],
      "source": [
        "\n",
        "!rm mails_boss.md\n",
        "from Mail import Mail\n",
        "\n",
        "query_mails = \"\"\"\n",
        "SELECT * FROM mails\n",
        "WHERE id_expéditeur NOT IN (\n",
        "    SELECT id\n",
        "    FROM employés\n",
        "    INNER JOIN congés_2023 ON employés.id = congés_2023.id_employé\n",
        "    WHERE \"2023-04-01\" BETWEEN  date_départ_accordée AND date_retour_accordée\n",
        ")\n",
        "\"\"\"\n",
        "\n",
        "mails = c.execute(query_mails)\n",
        "\n",
        "mails = mails.fetchall()\n",
        "\n",
        "for line in mails:\n",
        "    mail = Mail(line)\n",
        "    regex_boss = r\"PDG|[Bb]oss|[Pp]atron|Jean Dubois\"\n",
        "    mail.find_regex_in_mails(regex_boss, \"mails_boss.md\")\n",
        "\n",
        "!open  mails_boss.md"
      ]
    },
    {
      "cell_type": "markdown",
      "metadata": {},
      "source": [
        "<br><br><br><br><br><br><br><br><br><br><br><br><br><br><br><br>"
      ]
    },
    {
      "cell_type": "code",
      "execution_count": 3,
      "metadata": {
        "id": "0X89vPLV7BiO",
        "outputId": "0a7e2cec-9712-4d80-8361-1e2b6a311f34"
      },
      "outputs": [
        {
          "name": "stdout",
          "output_type": "stream",
          "text": [
            "╒══════╤══════════╤══════════╤═══════════════╤═══════════╤═══════════════════╤═════════════╕\n",
            "│   id │ nom      │ prénom   │ fonction      │   salaire │ date d'embauche   │   id_projet │\n",
            "╞══════╪══════════╪══════════╪═══════════════╪═══════════╪═══════════════════╪═════════════╡\n",
            "│  340 │ Coupable │ John     │ Ingénieur TAL │      2000 │ 2012-04-01        │           4 │\n",
            "╘══════╧══════════╧══════════╧═══════════════╧═══════════╧═══════════════════╧═════════════╛\n"
          ]
        }
      ],
      "source": [
        "query_employés_louches = \"\"\"\n",
        "SELECT * FROM employés\n",
        "WHERE id IN (2309,728,3789)\n",
        "\"\"\"\n",
        "employés_louches = c.execute(query_employés_louches)\n",
        "employés_louches = employés_louches.fetchall()\n",
        "headers = [\"id\",\"nom\",\"prénom\",\"fonction\",\"salaire\",\"date d'embauche\",\"id_projet\"]\n",
        "print(tabulate(employés_louches,headers,tablefmt=\"fancy_grid\"))\n"
      ]
    },
    {
      "cell_type": "markdown",
      "metadata": {
        "id": "YQ9Iexacca48"
      },
      "source": [
        "<br><br><br><br><br><br><br><br><br><br><br><br><br><br><br>"
      ]
    },
    {
      "cell_type": "markdown",
      "metadata": {
        "id": "XPL7lRHiCncC"
      },
      "source": [
        "<br></br>\n",
        "<br></br>"
      ]
    },
    {
      "cell_type": "code",
      "execution_count": 7,
      "metadata": {
        "id": "zyuHKtthqBbi",
        "outputId": "71478a21-2ca8-469d-dee9-367c0aac3d13"
      },
      "outputs": [
        {
          "name": "stdout",
          "output_type": "stream",
          "text": [
            "╒═════════════╤══════════════╤═════════════════════════════════════════════════════════════════════════════════════════════════════════════╤═════════════════════╤═════════════════════╕\n",
            "│   id projet │ nom projet   │ description projet                                                                                          │ date début projet   │   id chef de projet │\n",
            "╞═════════════╪══════════════╪═════════════════════════════════════════════════════════════════════════════════════════════════════════════╪═════════════════════╪═════════════════════╡\n",
            "│           4 │ TitanAI      │ Projet de LLM visant à élaborer une IA travailleuse qui maîtrise le développement d'applications et de LLM. │ 2009-04-23          │                3809 │\n",
            "╘═════════════╧══════════════╧═════════════════════════════════════════════════════════════════════════════════════════════════════════════╧═════════════════════╧═════════════════════╛\n"
          ]
        }
      ],
      "source": [
        "projet4 = c.execute(\"SELECT * FROM projets WHERE id_projet = 4\")\n",
        "projet4 = projet4.fetchall()\n",
        "headers = [\"id projet\",\"nom projet\",\"description projet\",\"date début projet\",\"id chef de projet\"]\n",
        "print(tabulate(projet4,headers,tablefmt=\"fancy_grid\"))"
      ]
    },
    {
      "cell_type": "markdown",
      "metadata": {
        "id": "Uc6yuQM1qBbj"
      },
      "source": [
        "<br><br><br><br><br><br><br><br><br><br><br><br><br><br><br><br><br>"
      ]
    },
    {
      "cell_type": "code",
      "execution_count": 8,
      "metadata": {},
      "outputs": [
        {
          "name": "stdout",
          "output_type": "stream",
          "text": [
            "Nombre d'employés dans le projet TitanAI :  9\n"
          ]
        }
      ],
      "source": [
        "query_nombre_employes_projet = \"\"\"\n",
        "SELECT COUNT(*)\n",
        "FROM employés\n",
        "WHERE id_projet = 4\n",
        "AND employés.id NOT in (SELECT id\n",
        "                        FROM employés\n",
        "                        INNER JOIN congés_2023\n",
        "                        ON employés.id = congés_2023.id_employé\n",
        "                        WHERE \"2023-04-01\" BETWEEN date_départ_accordée AND date_retour_accordée);\n",
        "\"\"\"\n",
        "\n",
        "nombre_employés = c.execute(query_nombre_employes_projet)\n",
        "nombre_employés = nombre_employés.fetchone()\n",
        "print(\"Nombre d'employés dans le projet TitanAI : \",nombre_employés[0])"
      ]
    },
    {
      "cell_type": "code",
      "execution_count": 11,
      "metadata": {},
      "outputs": [
        {
          "name": "stdout",
          "output_type": "stream",
          "text": [
            "╒══════╤══════════╤═══════════╤════════════════════╤═══════════╤═══════════════════╤═════════════╕\n",
            "│   id │ nom      │ prénom    │ fonction           │   salaire │ date d'embauche   │   id_projet │\n",
            "╞══════╪══════════╪═══════════╪════════════════════╪═══════════╪═══════════════════╪═════════════╡\n",
            "│   18 │ Lemaire  │ Amandine  │ Experte en ML      │     10000 │ 2004-10-23        │           4 │\n",
            "├──────┼──────────┼───────────┼────────────────────┼───────────┼───────────────────┼─────────────┤\n",
            "│  728 │ Dengrot  │ Drécic    │ Speech Analyst     │     70000 │ 2022-09-18        │           4 │\n",
            "├──────┼──────────┼───────────┼────────────────────┼───────────┼───────────────────┼─────────────┤\n",
            "│ 1784 │ Fleith   │ Florian   │ Employé polyvalent │     10000 │ 2001-03-12        │           4 │\n",
            "├──────┼──────────┼───────────┼────────────────────┼───────────┼───────────────────┼─────────────┤\n",
            "│ 2000 │ Philippe │ Ashley    │ Développeur        │      7000 │ 1998-11-24        │           4 │\n",
            "├──────┼──────────┼───────────┼────────────────────┼───────────┼───────────────────┼─────────────┤\n",
            "│ 2309 │ Dupont   │ Pierre    │ Ingénieur TAL      │      7800 │ 2003-05-30        │           4 │\n",
            "├──────┼──────────┼───────────┼────────────────────┼───────────┼───────────────────┼─────────────┤\n",
            "│ 3789 │ Mariotte │ Laurent   │ Développeur        │      6500 │ 1994-08-24        │           4 │\n",
            "├──────┼──────────┼───────────┼────────────────────┼───────────┼───────────────────┼─────────────┤\n",
            "│ 3809 │ Outan    │ Laurent   │ Chef de projet     │    150000 │ 2013-07-30        │           4 │\n",
            "├──────┼──────────┼───────────┼────────────────────┼───────────┼───────────────────┼─────────────┤\n",
            "│ 3975 │ Tuillier │ Emma      │ Développeur        │      9000 │ 1999-12-13        │           4 │\n",
            "├──────┼──────────┼───────────┼────────────────────┼───────────┼───────────────────┼─────────────┤\n",
            "│ 4504 │ Ratier   │ Valentine │ Ingénieur TAL      │     15000 │ 2001-07-06        │           4 │\n",
            "╘══════╧══════════╧═══════════╧════════════════════╧═══════════╧═══════════════════╧═════════════╛\n"
          ]
        }
      ],
      "source": [
        "query_infos_employes_projet = \"\"\"\n",
        "SELECT *\n",
        "FROM employés\n",
        "WHERE id_projet = 4\n",
        "AND employés.id NOT in (SELECT id\n",
        "                        FROM employés\n",
        "                        INNER JOIN congés_2023\n",
        "                        ON employés.id = congés_2023.id_employé\n",
        "                        WHERE \"2023-04-01\" BETWEEN date_départ_accordée AND date_retour_accordée);\n",
        "\"\"\"\n",
        "\n",
        "membres = c.execute(query_infos_employes_projet)\n",
        "membres = membres.fetchall()\n",
        "headers = [\"id\",\"nom\",\"prénom\",\"fonction\",\"salaire\",\"date d'embauche\",\"id_projet\"]\n",
        "print(tabulate(membres,headers,tablefmt=\"fancy_grid\"))\n"
      ]
    },
    {
      "cell_type": "code",
      "execution_count": 8,
      "metadata": {
        "id": "8Qkj06LSCITI"
      },
      "outputs": [
        {
          "name": "stdout",
          "output_type": "stream",
          "text": [
            "╒════════════════════╤═════════════════════╤═════════════════╕\n",
            "│ Poste              │   Nombre d'employés │   Salaire Moyen │\n",
            "╞════════════════════╪═════════════════════╪═════════════════╡\n",
            "│ Chef de projet     │                   1 │          150000 │\n",
            "├────────────────────┼─────────────────────┼─────────────────┤\n",
            "│ Développeur        │                   3 │            7500 │\n",
            "├────────────────────┼─────────────────────┼─────────────────┤\n",
            "│ Employé polyvalent │                   1 │           10000 │\n",
            "├────────────────────┼─────────────────────┼─────────────────┤\n",
            "│ Experte en ML      │                   1 │           10000 │\n",
            "├────────────────────┼─────────────────────┼─────────────────┤\n",
            "│ Ingénieur TAL      │                   2 │           11400 │\n",
            "├────────────────────┼─────────────────────┼─────────────────┤\n",
            "│ Speech Analyst     │                   1 │           70000 │\n",
            "╘════════════════════╧═════════════════════╧═════════════════╛\n"
          ]
        }
      ],
      "source": [
        "query_salaires_employes_projet = \"\"\"\n",
        "SELECT fonction, COUNT(fonction) AS nb, AVG(salaire) AS salaire_moyen\n",
        "FROM employés\n",
        "WHERE id_projet = 4\n",
        "AND employés.id NOT in (SELECT id\n",
        "                        FROM employés\n",
        "                        INNER JOIN congés_2023\n",
        "                        ON employés.id = congés_2023.id_employé\n",
        "                        WHERE \"2023-04-01\" BETWEEN date_départ_accordée AND date_retour_accordée)\n",
        "GROUP BY fonction;\n",
        "\"\"\"\n",
        "# RAJOUTER SALAIRE MOYEN DANS L'ENTREPRISE POUR COMPARER\n",
        "salaires = c.execute(query_salaires_employes_projet)\n",
        "salaires = salaires.fetchall()\n",
        "headers = [\"Poste\",\"Nombre d'employés\",\"Salaire Moyen\"]\n",
        "print(tabulate(salaires,headers,tablefmt=\"fancy_grid\"))"
      ]
    },
    {
      "cell_type": "markdown",
      "metadata": {
        "id": "EmSPPV0YCJAV"
      },
      "source": [
        "<br></br><br></br><br></br><br></br><br></br><br></br><br></br><br></br><br></br>\n"
      ]
    },
    {
      "cell_type": "code",
      "execution_count": 14,
      "metadata": {
        "id": "S8Pcb6ed4_ag",
        "outputId": "c137db58-bfa6-43e7-e8ce-dbf1a836e2d3"
      },
      "outputs": [],
      "source": [
        "!rm mails_project.md\n",
        "for line in mails:\n",
        "    mail = Mail(line)\n",
        "    regex_project = \"((projet)?[tT]itan[aA][iI])\"\n",
        "    # regex_project = \"Titan\"\n",
        "    mail.find_regex_in_mails(regex_project, \"mails_project.md\")\n",
        "\n",
        "!open mails_project.md"
      ]
    },
    {
      "cell_type": "markdown",
      "metadata": {},
      "source": [
        "<br><br><br><br><br><br><br><br><br><br><br><br><br><br><br><br><br><br><br><br>"
      ]
    },
    {
      "cell_type": "code",
      "execution_count": 15,
      "metadata": {
        "id": "NfsxCC8e6cSo",
        "outputId": "ec15550b-a420-4d24-e6ff-94a8b3f3fe68"
      },
      "outputs": [
        {
          "name": "stdout",
          "output_type": "stream",
          "text": [
            "╒══════════╤══════════╤═════════════════╤═════════════════════╤══════════════╤═════════════════╤════════════════╤═══════════════════╕\n",
            "│ nom      │ prénom   │ lieu badge      │ heure badge         │ type badge   │ lieu caméra     │ heure caméra   │ action caméra     │\n",
            "╞══════════╪══════════╪═════════════════╪═════════════════════╪══════════════╪═════════════════╪════════════════╪═══════════════════╡\n",
            "│ Dengrot  │ Drécic   │ Cour intérieure │ 2023-04-01|14:58:12 │ Sortie       │ Cour intérieure │ 14:58:54       │ En train de fumer │\n",
            "├──────────┼──────────┼─────────────────┼─────────────────────┼──────────────┼─────────────────┼────────────────┼───────────────────┤\n",
            "│ Dupont   │ Pierre   │ Cour intérieure │ 2023-04-01|14:58:28 │ Sortie       │ Cour intérieure │ 14:58:20       │ En train de fumer │\n",
            "├──────────┼──────────┼─────────────────┼─────────────────────┼──────────────┼─────────────────┼────────────────┼───────────────────┤\n",
            "│ Mariotte │ Laurent  │ Cour intérieure │ 2023-04-01|14:58:01 │ Sortie       │ Cour intérieure │ 14:58:58       │ En train de fumer │\n",
            "╘══════════╧══════════╧═════════════════╧═════════════════════╧══════════════╧═════════════════╧════════════════╧═══════════════════╛\n"
          ]
        }
      ],
      "source": [
        "#À adapter\n",
        "query_caméras_badges = \"\"\"\n",
        "SELECT nom, prénom, lieu_badge,date_heure_badge,type_badge,lieu,heure,action\n",
        "FROM employés\n",
        "INNER JOIN reconnaissance_caméras_2023_04_01 on employés.id = reconnaissance_caméras_2023_04_01.id_employé\n",
        "INNER JOIN badges_2023 ON employés.id = badges_2023.id_employé\n",
        "WHERE date_heure_badge LIKE \"2023-04-01|14:5%\"\n",
        "AND heure LIKE \"14:5%\"\n",
        "AND employés.id IN (728,2309,3789)\"\"\"\n",
        "\n",
        "caméras_badges = c.execute(query_caméras_badges)\n",
        "caméras_badges = caméras_badges.fetchall()\n",
        "headers = [\"nom\",\"prénom\",\"lieu badge\",\"heure badge\",\"type badge\",\"lieu caméra\",\"heure caméra\",\"action caméra\"]\n",
        "print(tabulate(caméras_badges,headers,tablefmt=\"fancy_grid\"))\n",
        "\n",
        "\n",
        "# Idees de requetes en plus si on a le temps : ceux qui ont demande des conges mais qui n'ont jamais ete accordes\n",
        "# faire un truc autour de badges : qui a ete dans le bureau du PDG ? Coupable y va h24"
      ]
    },
    {
      "cell_type": "code",
      "execution_count": 11,
      "metadata": {},
      "outputs": [
        {
          "name": "stdout",
          "output_type": "stream",
          "text": [
            "╒══════════╤══════════╤══════════════╤═════════════════════╤══════════════╤═══════════════╤════════════════╤══════════════════╕\n",
            "│ nom      │ prénom   │ lieu badge   │ heure badge         │ type badge   │ lieu caméra   │ heure caméra   │ action caméra    │\n",
            "╞══════════╪══════════╪══════════════╪═════════════════════╪══════════════╪═══════════════╪════════════════╪══════════════════╡\n",
            "│ Dengrot  │ Drécic   │ Open Space   │ 2023-04-01|15:09:28 │ Entrée       │ Open Space    │ 15:10:34       │ Sur l'ordinateur │\n",
            "├──────────┼──────────┼──────────────┼─────────────────────┼──────────────┼───────────────┼────────────────┼──────────────────┤\n",
            "│ Dupont   │ Pierre   │ Open Space   │ 2023-04-01|15:09:35 │ Entrée       │ Open Space    │ 15:11:07       │ Sur l'ordinateur │\n",
            "├──────────┼──────────┼──────────────┼─────────────────────┼──────────────┼───────────────┼────────────────┼──────────────────┤\n",
            "│ Mariotte │ Laurent  │ Open Space   │ 2023-04-01|15:09:42 │ Entrée       │ Open Space    │ 15:11:02       │ Sur l'ordinateur │\n",
            "╘══════════╧══════════╧══════════════╧═════════════════════╧══════════════╧═══════════════╧════════════════╧══════════════════╛\n"
          ]
        }
      ],
      "source": [
        "query_caméras_badges = \"\"\"\n",
        "SELECT nom, prénom, lieu_badge,date_heure_badge,type_badge,lieu,heure,action\n",
        "FROM employés\n",
        "INNER JOIN reconnaissance_caméras_2023_04_01 on employés.id = reconnaissance_caméras_2023_04_01.id_employé\n",
        "INNER JOIN badges_2023 ON employés.id = badges_2023.id_employé\n",
        "WHERE date_heure_badge LIKE \"2023-04-01|15:%\"\n",
        "AND heure LIKE \"15:%\"\n",
        "AND employés.id IN (728,2309,3789)\"\"\"\n",
        "\n",
        "caméras_badges = c.execute(query_caméras_badges)\n",
        "caméras_badges = caméras_badges.fetchall()\n",
        "headers = [\"nom\",\"prénom\",\"lieu badge\",\"heure badge\",\"type badge\",\"lieu caméra\",\"heure caméra\",\"action caméra\"]\n",
        "print(tabulate(caméras_badges,headers,tablefmt=\"fancy_grid\"))"
      ]
    },
    {
      "cell_type": "code",
      "execution_count": 3,
      "metadata": {},
      "outputs": [
        {
          "name": "stdout",
          "output_type": "stream",
          "text": [
            "╒═══════════════╤═══════════════╤══════╕\n",
            "│ Date départ   │ Date retour   │   id │\n",
            "╞═══════════════╪═══════════════╪══════╡\n",
            "│ 2023-04-01    │ 2023-04-02    │  340 │\n",
            "╘═══════════════╧═══════════════╧══════╛\n"
          ]
        }
      ],
      "source": [
        "c.execute(\"SELECT date_départ_accordée,date_retour_accordée,id_employé FROM congés_2023 WHERE id_employé = 340\")\n",
        "res = c.fetchall()\n",
        "headers = [\"Date départ\",\"Date retour\",\"id\"]\n",
        "print(tabulate(res,headers,tablefmt=\"fancy_grid\"))"
      ]
    },
    {
      "cell_type": "markdown",
      "metadata": {},
      "source": [
        "<br><br><br><br><br><br><br><br><br><br><br><br><br><br><br><br><br><br><br><br><br>"
      ]
    },
    {
      "cell_type": "code",
      "execution_count": 4,
      "metadata": {},
      "outputs": [
        {
          "name": "stdout",
          "output_type": "stream",
          "text": [
            "╒═══════════════╤═══════════════╤══════╕\n",
            "│ date départ   │ date retour   │   id │\n",
            "╞═══════════════╪═══════════════╪══════╡\n",
            "│ 2023-04-01    │ 2023-04-02    │  340 │\n",
            "╘═══════════════╧═══════════════╧══════╛\n"
          ]
        }
      ],
      "source": [
        "c.execute(\"SELECT date_départ_accordée,date_retour_accordée,id_employé FROM congés_2023 WHERE id_employé = 340\")\n",
        "congé = c.fetchall()\n",
        "headers = [\"date départ\",\"date retour\",\"id\"]\n",
        "print(tabulate(congé,headers,tablefmt=\"fancy_grid\"))"
      ]
    }
  ],
  "metadata": {
    "colab": {
      "provenance": []
    },
    "kernelspec": {
      "display_name": "Python 3",
      "name": "python3"
    },
    "language_info": {
      "codemirror_mode": {
        "name": "ipython",
        "version": 3
      },
      "file_extension": ".py",
      "mimetype": "text/x-python",
      "name": "python",
      "nbconvert_exporter": "python",
      "pygments_lexer": "ipython3",
      "version": "3.11.6"
    }
  },
  "nbformat": 4,
  "nbformat_minor": 0
}
